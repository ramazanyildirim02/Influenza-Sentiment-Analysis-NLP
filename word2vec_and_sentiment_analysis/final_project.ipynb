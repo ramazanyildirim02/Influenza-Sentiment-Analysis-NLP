{
 "cells": [
  {
   "cell_type": "code",
   "execution_count": 1,
   "id": "52052e06",
   "metadata": {
    "colab": {
     "base_uri": "https://localhost:8080/",
     "height": 423
    },
    "id": "52052e06",
    "outputId": "6f4a07f9-e330-4268-a8dd-f6fc09410b4c"
   },
   "outputs": [
    {
     "data": {
      "text/html": [
       "\n",
       "  <div id=\"df-fe28d809-4874-40b0-b349-9f2a27c5236b\" class=\"colab-df-container\">\n",
       "    <div>\n",
       "<style scoped>\n",
       "    .dataframe tbody tr th:only-of-type {\n",
       "        vertical-align: middle;\n",
       "    }\n",
       "\n",
       "    .dataframe tbody tr th {\n",
       "        vertical-align: top;\n",
       "    }\n",
       "\n",
       "    .dataframe thead th {\n",
       "        text-align: right;\n",
       "    }\n",
       "</style>\n",
       "<table border=\"1\" class=\"dataframe\">\n",
       "  <thead>\n",
       "    <tr style=\"text-align: right;\">\n",
       "      <th></th>\n",
       "      <th>Cumle sayisi</th>\n",
       "      <th>Cleaned_Text</th>\n",
       "    </tr>\n",
       "  </thead>\n",
       "  <tbody>\n",
       "    <tr>\n",
       "      <th>0</th>\n",
       "      <td>1</td>\n",
       "      <td>grip influenza virusuna bağlı bir solunum yolu...</td>\n",
       "    </tr>\n",
       "    <tr>\n",
       "      <th>1</th>\n",
       "      <td>2</td>\n",
       "      <td>hafif bir üst solunum yolu enfeksiyonundan ölü...</td>\n",
       "    </tr>\n",
       "    <tr>\n",
       "      <th>2</th>\n",
       "      <td>3</td>\n",
       "      <td>grip tipik olarak ani başlayan ateş titreme ba...</td>\n",
       "    </tr>\n",
       "    <tr>\n",
       "      <th>3</th>\n",
       "      <td>4</td>\n",
       "      <td>i̇nfluenza virusları orthomyxoviridae ailesi i...</td>\n",
       "    </tr>\n",
       "    <tr>\n",
       "      <th>4</th>\n",
       "      <td>5</td>\n",
       "      <td>i̇nsanlarda sık hastalık yapan tipler influenz...</td>\n",
       "    </tr>\n",
       "    <tr>\n",
       "      <th>...</th>\n",
       "      <td>...</td>\n",
       "      <td>...</td>\n",
       "    </tr>\n",
       "    <tr>\n",
       "      <th>10653</th>\n",
       "      <td>10654</td>\n",
       "      <td>bugün gelinen noktada pandemisinin gerçek boyu...</td>\n",
       "    </tr>\n",
       "    <tr>\n",
       "      <th>10654</th>\n",
       "      <td>10655</td>\n",
       "      <td>örneğin abdde salgının başlangıcından şubat ta...</td>\n",
       "    </tr>\n",
       "    <tr>\n",
       "      <th>10655</th>\n",
       "      <td>10656</td>\n",
       "      <td>enfeksiyon nedeniyle kaybedildiği hesaplanmakt...</td>\n",
       "    </tr>\n",
       "    <tr>\n",
       "      <th>10656</th>\n",
       "      <td>10657</td>\n",
       "      <td>değerlerin verildiği raporda enfekte olanların...</td>\n",
       "    </tr>\n",
       "    <tr>\n",
       "      <th>10657</th>\n",
       "      <td>10658</td>\n",
       "      <td>hospitalize edilen kaybedilen olguların yaş gr...</td>\n",
       "    </tr>\n",
       "  </tbody>\n",
       "</table>\n",
       "<p>10658 rows × 2 columns</p>\n",
       "</div>\n",
       "    <div class=\"colab-df-buttons\">\n",
       "\n",
       "  <div class=\"colab-df-container\">\n",
       "    <button class=\"colab-df-convert\" onclick=\"convertToInteractive('df-fe28d809-4874-40b0-b349-9f2a27c5236b')\"\n",
       "            title=\"Convert this dataframe to an interactive table.\"\n",
       "            style=\"display:none;\">\n",
       "\n",
       "  <svg xmlns=\"http://www.w3.org/2000/svg\" height=\"24px\" viewBox=\"0 -960 960 960\">\n",
       "    <path d=\"M120-120v-720h720v720H120Zm60-500h600v-160H180v160Zm220 220h160v-160H400v160Zm0 220h160v-160H400v160ZM180-400h160v-160H180v160Zm440 0h160v-160H620v160ZM180-180h160v-160H180v160Zm440 0h160v-160H620v160Z\"/>\n",
       "  </svg>\n",
       "    </button>\n",
       "\n",
       "  <style>\n",
       "    .colab-df-container {\n",
       "      display:flex;\n",
       "      gap: 12px;\n",
       "    }\n",
       "\n",
       "    .colab-df-convert {\n",
       "      background-color: #E8F0FE;\n",
       "      border: none;\n",
       "      border-radius: 50%;\n",
       "      cursor: pointer;\n",
       "      display: none;\n",
       "      fill: #1967D2;\n",
       "      height: 32px;\n",
       "      padding: 0 0 0 0;\n",
       "      width: 32px;\n",
       "    }\n",
       "\n",
       "    .colab-df-convert:hover {\n",
       "      background-color: #E2EBFA;\n",
       "      box-shadow: 0px 1px 2px rgba(60, 64, 67, 0.3), 0px 1px 3px 1px rgba(60, 64, 67, 0.15);\n",
       "      fill: #174EA6;\n",
       "    }\n",
       "\n",
       "    .colab-df-buttons div {\n",
       "      margin-bottom: 4px;\n",
       "    }\n",
       "\n",
       "    [theme=dark] .colab-df-convert {\n",
       "      background-color: #3B4455;\n",
       "      fill: #D2E3FC;\n",
       "    }\n",
       "\n",
       "    [theme=dark] .colab-df-convert:hover {\n",
       "      background-color: #434B5C;\n",
       "      box-shadow: 0px 1px 3px 1px rgba(0, 0, 0, 0.15);\n",
       "      filter: drop-shadow(0px 1px 2px rgba(0, 0, 0, 0.3));\n",
       "      fill: #FFFFFF;\n",
       "    }\n",
       "  </style>\n",
       "\n",
       "    <script>\n",
       "      const buttonEl =\n",
       "        document.querySelector('#df-fe28d809-4874-40b0-b349-9f2a27c5236b button.colab-df-convert');\n",
       "      buttonEl.style.display =\n",
       "        google.colab.kernel.accessAllowed ? 'block' : 'none';\n",
       "\n",
       "      async function convertToInteractive(key) {\n",
       "        const element = document.querySelector('#df-fe28d809-4874-40b0-b349-9f2a27c5236b');\n",
       "        const dataTable =\n",
       "          await google.colab.kernel.invokeFunction('convertToInteractive',\n",
       "                                                    [key], {});\n",
       "        if (!dataTable) return;\n",
       "\n",
       "        const docLinkHtml = 'Like what you see? Visit the ' +\n",
       "          '<a target=\"_blank\" href=https://colab.research.google.com/notebooks/data_table.ipynb>data table notebook</a>'\n",
       "          + ' to learn more about interactive tables.';\n",
       "        element.innerHTML = '';\n",
       "        dataTable['output_type'] = 'display_data';\n",
       "        await google.colab.output.renderOutput(dataTable, element);\n",
       "        const docLink = document.createElement('div');\n",
       "        docLink.innerHTML = docLinkHtml;\n",
       "        element.appendChild(docLink);\n",
       "      }\n",
       "    </script>\n",
       "  </div>\n",
       "\n",
       "\n",
       "<div id=\"df-caf2f93e-1dd0-436a-81e7-61e2186f4806\">\n",
       "  <button class=\"colab-df-quickchart\" onclick=\"quickchart('df-caf2f93e-1dd0-436a-81e7-61e2186f4806')\"\n",
       "            title=\"Suggest charts\"\n",
       "            style=\"display:none;\">\n",
       "\n",
       "<svg xmlns=\"http://www.w3.org/2000/svg\" height=\"24px\"viewBox=\"0 0 24 24\"\n",
       "     width=\"24px\">\n",
       "    <g>\n",
       "        <path d=\"M19 3H5c-1.1 0-2 .9-2 2v14c0 1.1.9 2 2 2h14c1.1 0 2-.9 2-2V5c0-1.1-.9-2-2-2zM9 17H7v-7h2v7zm4 0h-2V7h2v10zm4 0h-2v-4h2v4z\"/>\n",
       "    </g>\n",
       "</svg>\n",
       "  </button>\n",
       "\n",
       "<style>\n",
       "  .colab-df-quickchart {\n",
       "      --bg-color: #E8F0FE;\n",
       "      --fill-color: #1967D2;\n",
       "      --hover-bg-color: #E2EBFA;\n",
       "      --hover-fill-color: #174EA6;\n",
       "      --disabled-fill-color: #AAA;\n",
       "      --disabled-bg-color: #DDD;\n",
       "  }\n",
       "\n",
       "  [theme=dark] .colab-df-quickchart {\n",
       "      --bg-color: #3B4455;\n",
       "      --fill-color: #D2E3FC;\n",
       "      --hover-bg-color: #434B5C;\n",
       "      --hover-fill-color: #FFFFFF;\n",
       "      --disabled-bg-color: #3B4455;\n",
       "      --disabled-fill-color: #666;\n",
       "  }\n",
       "\n",
       "  .colab-df-quickchart {\n",
       "    background-color: var(--bg-color);\n",
       "    border: none;\n",
       "    border-radius: 50%;\n",
       "    cursor: pointer;\n",
       "    display: none;\n",
       "    fill: var(--fill-color);\n",
       "    height: 32px;\n",
       "    padding: 0;\n",
       "    width: 32px;\n",
       "  }\n",
       "\n",
       "  .colab-df-quickchart:hover {\n",
       "    background-color: var(--hover-bg-color);\n",
       "    box-shadow: 0 1px 2px rgba(60, 64, 67, 0.3), 0 1px 3px 1px rgba(60, 64, 67, 0.15);\n",
       "    fill: var(--button-hover-fill-color);\n",
       "  }\n",
       "\n",
       "  .colab-df-quickchart-complete:disabled,\n",
       "  .colab-df-quickchart-complete:disabled:hover {\n",
       "    background-color: var(--disabled-bg-color);\n",
       "    fill: var(--disabled-fill-color);\n",
       "    box-shadow: none;\n",
       "  }\n",
       "\n",
       "  .colab-df-spinner {\n",
       "    border: 2px solid var(--fill-color);\n",
       "    border-color: transparent;\n",
       "    border-bottom-color: var(--fill-color);\n",
       "    animation:\n",
       "      spin 1s steps(1) infinite;\n",
       "  }\n",
       "\n",
       "  @keyframes spin {\n",
       "    0% {\n",
       "      border-color: transparent;\n",
       "      border-bottom-color: var(--fill-color);\n",
       "      border-left-color: var(--fill-color);\n",
       "    }\n",
       "    20% {\n",
       "      border-color: transparent;\n",
       "      border-left-color: var(--fill-color);\n",
       "      border-top-color: var(--fill-color);\n",
       "    }\n",
       "    30% {\n",
       "      border-color: transparent;\n",
       "      border-left-color: var(--fill-color);\n",
       "      border-top-color: var(--fill-color);\n",
       "      border-right-color: var(--fill-color);\n",
       "    }\n",
       "    40% {\n",
       "      border-color: transparent;\n",
       "      border-right-color: var(--fill-color);\n",
       "      border-top-color: var(--fill-color);\n",
       "    }\n",
       "    60% {\n",
       "      border-color: transparent;\n",
       "      border-right-color: var(--fill-color);\n",
       "    }\n",
       "    80% {\n",
       "      border-color: transparent;\n",
       "      border-right-color: var(--fill-color);\n",
       "      border-bottom-color: var(--fill-color);\n",
       "    }\n",
       "    90% {\n",
       "      border-color: transparent;\n",
       "      border-bottom-color: var(--fill-color);\n",
       "    }\n",
       "  }\n",
       "</style>\n",
       "\n",
       "  <script>\n",
       "    async function quickchart(key) {\n",
       "      const quickchartButtonEl =\n",
       "        document.querySelector('#' + key + ' button');\n",
       "      quickchartButtonEl.disabled = true;  // To prevent multiple clicks.\n",
       "      quickchartButtonEl.classList.add('colab-df-spinner');\n",
       "      try {\n",
       "        const charts = await google.colab.kernel.invokeFunction(\n",
       "            'suggestCharts', [key], {});\n",
       "      } catch (error) {\n",
       "        console.error('Error during call to suggestCharts:', error);\n",
       "      }\n",
       "      quickchartButtonEl.classList.remove('colab-df-spinner');\n",
       "      quickchartButtonEl.classList.add('colab-df-quickchart-complete');\n",
       "    }\n",
       "    (() => {\n",
       "      let quickchartButtonEl =\n",
       "        document.querySelector('#df-caf2f93e-1dd0-436a-81e7-61e2186f4806 button');\n",
       "      quickchartButtonEl.style.display =\n",
       "        google.colab.kernel.accessAllowed ? 'block' : 'none';\n",
       "    })();\n",
       "  </script>\n",
       "</div>\n",
       "\n",
       "  <div id=\"id_b1379e57-cab3-4a6d-b81b-287fdbe290e3\">\n",
       "    <style>\n",
       "      .colab-df-generate {\n",
       "        background-color: #E8F0FE;\n",
       "        border: none;\n",
       "        border-radius: 50%;\n",
       "        cursor: pointer;\n",
       "        display: none;\n",
       "        fill: #1967D2;\n",
       "        height: 32px;\n",
       "        padding: 0 0 0 0;\n",
       "        width: 32px;\n",
       "      }\n",
       "\n",
       "      .colab-df-generate:hover {\n",
       "        background-color: #E2EBFA;\n",
       "        box-shadow: 0px 1px 2px rgba(60, 64, 67, 0.3), 0px 1px 3px 1px rgba(60, 64, 67, 0.15);\n",
       "        fill: #174EA6;\n",
       "      }\n",
       "\n",
       "      [theme=dark] .colab-df-generate {\n",
       "        background-color: #3B4455;\n",
       "        fill: #D2E3FC;\n",
       "      }\n",
       "\n",
       "      [theme=dark] .colab-df-generate:hover {\n",
       "        background-color: #434B5C;\n",
       "        box-shadow: 0px 1px 3px 1px rgba(0, 0, 0, 0.15);\n",
       "        filter: drop-shadow(0px 1px 2px rgba(0, 0, 0, 0.3));\n",
       "        fill: #FFFFFF;\n",
       "      }\n",
       "    </style>\n",
       "    <button class=\"colab-df-generate\" onclick=\"generateWithVariable('data')\"\n",
       "            title=\"Generate code using this dataframe.\"\n",
       "            style=\"display:none;\">\n",
       "\n",
       "  <svg xmlns=\"http://www.w3.org/2000/svg\" height=\"24px\"viewBox=\"0 0 24 24\"\n",
       "       width=\"24px\">\n",
       "    <path d=\"M7,19H8.4L18.45,9,17,7.55,7,17.6ZM5,21V16.75L18.45,3.32a2,2,0,0,1,2.83,0l1.4,1.43a1.91,1.91,0,0,1,.58,1.4,1.91,1.91,0,0,1-.58,1.4L9.25,21ZM18.45,9,17,7.55Zm-12,3A5.31,5.31,0,0,0,4.9,8.1,5.31,5.31,0,0,0,1,6.5,5.31,5.31,0,0,0,4.9,4.9,5.31,5.31,0,0,0,6.5,1,5.31,5.31,0,0,0,8.1,4.9,5.31,5.31,0,0,0,12,6.5,5.46,5.46,0,0,0,6.5,12Z\"/>\n",
       "  </svg>\n",
       "    </button>\n",
       "    <script>\n",
       "      (() => {\n",
       "      const buttonEl =\n",
       "        document.querySelector('#id_b1379e57-cab3-4a6d-b81b-287fdbe290e3 button.colab-df-generate');\n",
       "      buttonEl.style.display =\n",
       "        google.colab.kernel.accessAllowed ? 'block' : 'none';\n",
       "\n",
       "      buttonEl.onclick = () => {\n",
       "        google.colab.notebook.generateWithVariable('data');\n",
       "      }\n",
       "      })();\n",
       "    </script>\n",
       "  </div>\n",
       "\n",
       "    </div>\n",
       "  </div>\n"
      ],
      "text/plain": [
       "       Cumle sayisi                                       Cleaned_Text\n",
       "0                 1  grip influenza virusuna bağlı bir solunum yolu...\n",
       "1                 2  hafif bir üst solunum yolu enfeksiyonundan ölü...\n",
       "2                 3  grip tipik olarak ani başlayan ateş titreme ba...\n",
       "3                 4  i̇nfluenza virusları orthomyxoviridae ailesi i...\n",
       "4                 5  i̇nsanlarda sık hastalık yapan tipler influenz...\n",
       "...             ...                                                ...\n",
       "10653         10654  bugün gelinen noktada pandemisinin gerçek boyu...\n",
       "10654         10655  örneğin abdde salgının başlangıcından şubat ta...\n",
       "10655         10656  enfeksiyon nedeniyle kaybedildiği hesaplanmakt...\n",
       "10656         10657  değerlerin verildiği raporda enfekte olanların...\n",
       "10657         10658  hospitalize edilen kaybedilen olguların yaş gr...\n",
       "\n",
       "[10658 rows x 2 columns]"
      ]
     },
     "execution_count": 1,
     "metadata": {},
     "output_type": "execute_result"
    }
   ],
   "source": [
    "import pandas as pd\n",
    "from gensim.models import Word2Vec\n",
    "\n",
    "data = pd.read_excel('derlenmis_corpus.xlsx')\n",
    "data.drop(\"Unnamed: 0\",axis = 1, inplace = True)\n",
    "data"
   ]
  },
  {
   "cell_type": "markdown",
   "id": "bfc4e910",
   "metadata": {
    "id": "bfc4e910"
   },
   "source": [
    "# En sık geçen 20 kelimeyi bulalım"
   ]
  },
  {
   "cell_type": "code",
   "execution_count": 2,
   "id": "3d74bdee",
   "metadata": {
    "colab": {
     "base_uri": "https://localhost:8080/"
    },
    "id": "3d74bdee",
    "outputId": "e0043e10-3a85-433e-fb23-174743d2674c"
   },
   "outputs": [
    {
     "name": "stdout",
     "output_type": "stream",
     "text": [
      "influenza: 2425 kez geçmiştir.\n",
      "bir: 2363 kez geçmiştir.\n",
      "olarak: 1646 kez geçmiştir.\n",
      "grip: 1192 kez geçmiştir.\n",
      "olan: 944 kez geçmiştir.\n",
      "i̇nfluenza: 903 kez geçmiştir.\n",
      "hn: 847 kez geçmiştir.\n",
      "olduğu: 793 kez geçmiştir.\n",
      "a: 781 kez geçmiştir.\n",
      "aşı: 781 kez geçmiştir.\n",
      "sağlık: 714 kez geçmiştir.\n",
      "aşısı: 673 kez geçmiştir.\n",
      "yaş: 643 kez geçmiştir.\n",
      "yüksek: 610 kez geçmiştir.\n",
      "solunum: 592 kez geçmiştir.\n",
      "arasında: 518 kez geçmiştir.\n",
      "mevsimsel: 497 kez geçmiştir.\n",
      "hastalık: 488 kez geçmiştir.\n",
      "virüs: 451 kez geçmiştir.\n",
      "göre: 420 kez geçmiştir.\n"
     ]
    }
   ],
   "source": [
    "corpus = [sentence.split() for sentence in data['Cleaned_Text'].tolist()]\n",
    "\n",
    "# Toplam kelime frekanslarını bulalım\n",
    "word_frequencies = {}\n",
    "for sentence in corpus:\n",
    "    for word in sentence:\n",
    "        word_frequencies[word] = word_frequencies.get(word, 0) + 1\n",
    "\n",
    "# En yüksek frekanstan başlayarak sıralayalım\n",
    "sorted_word_frequencies = sorted(word_frequencies.items(), key=lambda x: x[1], reverse=True)\n",
    "top_20_words = sorted_word_frequencies[:20]\n",
    "\n",
    "# Kelime ve frekanslarını yazdıralım\n",
    "for word, frequency in top_20_words:\n",
    "    print(f\"{word}: {frequency} kez geçmiştir.\")\n"
   ]
  },
  {
   "cell_type": "markdown",
   "id": "8f518293",
   "metadata": {
    "id": "8f518293"
   },
   "source": [
    "# Word2Vec modeli oluşturalım"
   ]
  },
  {
   "cell_type": "code",
   "execution_count": 3,
   "id": "719fa69c",
   "metadata": {
    "id": "719fa69c"
   },
   "outputs": [],
   "source": [
    "model = Word2Vec(sentences=corpus, vector_size=300, window=10, min_count=1, workers=4, sg =1, epochs=23)"
   ]
  },
  {
   "cell_type": "markdown",
   "id": "d1ffb154",
   "metadata": {
    "id": "d1ffb154"
   },
   "source": [
    "# En sık geçen 20 kelimeye en yakın 5 kelimeyi bulalım"
   ]
  },
  {
   "cell_type": "code",
   "execution_count": 4,
   "id": "1718044f",
   "metadata": {
    "id": "1718044f"
   },
   "outputs": [],
   "source": [
    "def Nearest_word(word):\n",
    "    return model.wv.most_similar(positive = [word],topn=5)"
   ]
  },
  {
   "cell_type": "code",
   "execution_count": 5,
   "id": "db89684f",
   "metadata": {
    "colab": {
     "base_uri": "https://localhost:8080/"
    },
    "id": "db89684f",
    "outputId": "99331bc3-8e48-44c6-ba39-4da5c54de7a6"
   },
   "outputs": [
    {
     "data": {
      "text/plain": [
       "[('a', 0.5254610180854797),\n",
       " ('saptamamıştır', 0.47739776968955994),\n",
       " ('ecdcnin', 0.4654465317726135),\n",
       " ('potansiyelini', 0.4600200355052948),\n",
       " ('kaynaklandıgı', 0.45818570256233215)]"
      ]
     },
     "execution_count": 5,
     "metadata": {},
     "output_type": "execute_result"
    }
   ],
   "source": [
    "# 1. Kelime\n",
    "Nearest_word(\"influenza\")"
   ]
  },
  {
   "cell_type": "code",
   "execution_count": 6,
   "id": "9b0e254e",
   "metadata": {
    "colab": {
     "base_uri": "https://localhost:8080/"
    },
    "id": "9b0e254e",
    "outputId": "08a379ff-2376-42b3-b0af-3e709dfa2cc0"
   },
   "outputs": [
    {
     "data": {
      "text/plain": [
       "[('herhangi', 0.4476170241832733),\n",
       " ('başka', 0.4419286549091339),\n",
       " ('çıkmaktadır', 0.4093347489833832),\n",
       " ('kendi', 0.3646841049194336),\n",
       " ('deyişle', 0.3596617579460144)]"
      ]
     },
     "execution_count": 6,
     "metadata": {},
     "output_type": "execute_result"
    }
   ],
   "source": [
    "# 2. Kelime\n",
    "Nearest_word(\"bir\")"
   ]
  },
  {
   "cell_type": "code",
   "execution_count": 7,
   "id": "880faf52",
   "metadata": {
    "colab": {
     "base_uri": "https://localhost:8080/"
    },
    "id": "880faf52",
    "outputId": "a84cefd9-8fc5-47d6-d958-9d5749754e6c"
   },
   "outputs": [
    {
     "data": {
      "text/plain": [
       "[('kabul', 0.3932833671569824),\n",
       " ('ek', 0.3525054454803467),\n",
       " ('tanımlanan', 0.3497081696987152),\n",
       " ('karşımıza', 0.3381895124912262),\n",
       " ('enfeksiyonununen', 0.32252037525177)]"
      ]
     },
     "execution_count": 7,
     "metadata": {},
     "output_type": "execute_result"
    }
   ],
   "source": [
    "# 3. Kelime\n",
    "Nearest_word(\"olarak\")"
   ]
  },
  {
   "cell_type": "code",
   "execution_count": 8,
   "id": "6780fdb0",
   "metadata": {
    "colab": {
     "base_uri": "https://localhost:8080/"
    },
    "id": "6780fdb0",
    "outputId": "916d8af3-00ee-4678-bf43-98dda9d2036b"
   },
   "outputs": [
    {
     "data": {
      "text/plain": [
       "[('aşısı', 0.5653066635131836),\n",
       " ('inflüenza', 0.46453389525413513),\n",
       " ('karıştırılabilecek', 0.4451853036880493),\n",
       " ('görüşlerine', 0.4445728659629822),\n",
       " ('yaptırmalarını', 0.4443323314189911)]"
      ]
     },
     "execution_count": 8,
     "metadata": {},
     "output_type": "execute_result"
    }
   ],
   "source": [
    "# 4. Kelime\n",
    "Nearest_word(\"grip\")"
   ]
  },
  {
   "cell_type": "code",
   "execution_count": 9,
   "id": "ec3354f4",
   "metadata": {
    "colab": {
     "base_uri": "https://localhost:8080/"
    },
    "id": "ec3354f4",
    "outputId": "56e3b0c8-209c-4e34-a593-209985dab8ec"
   },
   "outputs": [
    {
     "data": {
      "text/plain": [
       "[('indirebilirler', 0.30760475993156433),\n",
       " ('influenzaenfeksiyonunun', 0.30550605058670044),\n",
       " ('yakalanırlar', 0.30358392000198364),\n",
       " ('isavirüs', 0.29836347699165344),\n",
       " ('olabilirken', 0.2982867956161499)]"
      ]
     },
     "execution_count": 9,
     "metadata": {},
     "output_type": "execute_result"
    }
   ],
   "source": [
    "# 5. Kelime\n",
    "Nearest_word(\"olan\")"
   ]
  },
  {
   "cell_type": "code",
   "execution_count": 10,
   "id": "2876f274",
   "metadata": {
    "colab": {
     "base_uri": "https://localhost:8080/"
    },
    "id": "2876f274",
    "outputId": "8b446654-6a9d-4bf4-8801-e753978f8771"
   },
   "outputs": [
    {
     "data": {
      "text/plain": [
       "[('a', 0.45729386806488037),\n",
       " ('nfluenza', 0.4416821002960205),\n",
       " ('ailesindendir', 0.43028947710990906),\n",
       " ('parainfluenzavirüs', 0.4249168038368225),\n",
       " ('coronavirüs', 0.41713184118270874)]"
      ]
     },
     "execution_count": 10,
     "metadata": {},
     "output_type": "execute_result"
    }
   ],
   "source": [
    "# 6. Kelime\n",
    "Nearest_word(\"i̇nfluenza\")"
   ]
  },
  {
   "cell_type": "code",
   "execution_count": 11,
   "id": "b90a5153",
   "metadata": {
    "colab": {
     "base_uri": "https://localhost:8080/"
    },
    "id": "b90a5153",
    "outputId": "00fc6859-66be-4fe3-fbb4-10521122a251"
   },
   "outputs": [
    {
     "data": {
      "text/plain": [
       "[('pdm', 0.58412104845047),\n",
       " ('suşunun', 0.535748302936554),\n",
       " ('saptamamıştır', 0.5272064805030823),\n",
       " ('sürdürmektedir', 0.5228305459022522),\n",
       " ('variant', 0.5222998261451721)]"
      ]
     },
     "execution_count": 11,
     "metadata": {},
     "output_type": "execute_result"
    }
   ],
   "source": [
    "# 7. Kelime\n",
    "Nearest_word(\"hn\")"
   ]
  },
  {
   "cell_type": "code",
   "execution_count": 12,
   "id": "981ad87e",
   "metadata": {
    "colab": {
     "base_uri": "https://localhost:8080/"
    },
    "id": "981ad87e",
    "outputId": "c330eeee-da0f-4408-b414-87cabc10cb59"
   },
   "outputs": [
    {
     "data": {
      "text/plain": [
       "[('olabileceği', 0.42278051376342773),\n",
       " ('belirtilmiştir', 0.42239120602607727),\n",
       " ('olmadığı', 0.406028151512146),\n",
       " ('gereksinimini', 0.4044923782348633),\n",
       " ('gösterilmiştir', 0.4023967981338501)]"
      ]
     },
     "execution_count": 12,
     "metadata": {},
     "output_type": "execute_result"
    }
   ],
   "source": [
    "# 8. Kelime\n",
    "Nearest_word(\"olduğu\")"
   ]
  },
  {
   "cell_type": "code",
   "execution_count": 13,
   "id": "94b2ecdf",
   "metadata": {
    "colab": {
     "base_uri": "https://localhost:8080/"
    },
    "id": "94b2ecdf",
    "outputId": "ada4b1f7-3c03-4ea1-e593-5ea10a709dc2"
   },
   "outputs": [
    {
     "data": {
      "text/plain": [
       "[('b', 0.5905647873878479),\n",
       " ('pdm', 0.5632952451705933),\n",
       " ('anın', 0.5501911640167236),\n",
       " ('variant', 0.5397542119026184),\n",
       " ('üçüncüsü', 0.5281604528427124)]"
      ]
     },
     "execution_count": 13,
     "metadata": {},
     "output_type": "execute_result"
    }
   ],
   "source": [
    "# 9. Kelime\n",
    "Nearest_word(\"a\")"
   ]
  },
  {
   "cell_type": "code",
   "execution_count": 14,
   "id": "1c602e22",
   "metadata": {
    "colab": {
     "base_uri": "https://localhost:8080/"
    },
    "id": "1c602e22",
    "outputId": "7a5f7edc-1c06-4dc2-e962-5c571914b140"
   },
   "outputs": [
    {
     "data": {
      "text/plain": [
       "[('yaptırmama', 0.5410998463630676),\n",
       " ('olmama', 0.49210411310195923),\n",
       " ('içeriğindeki', 0.48635002970695496),\n",
       " ('çocuğuna', 0.48383763432502747),\n",
       " ('içeriği', 0.4816538393497467)]"
      ]
     },
     "execution_count": 14,
     "metadata": {},
     "output_type": "execute_result"
    }
   ],
   "source": [
    "# 10. Kelime\n",
    "Nearest_word(\"aşı\")"
   ]
  },
  {
   "cell_type": "code",
   "execution_count": 15,
   "id": "a473f0e7",
   "metadata": {
    "colab": {
     "base_uri": "https://localhost:8080/"
    },
    "id": "a473f0e7",
    "outputId": "a34537ef-bb00-4263-9760-68f3182130bb"
   },
   "outputs": [
    {
     "data": {
      "text/plain": [
       "[('çalışanlarının', 0.7505239844322205),\n",
       " ('çalışanları', 0.7028568387031555),\n",
       " ('çalışanlarına', 0.6790400743484497),\n",
       " ('personeli', 0.6456841230392456),\n",
       " ('hizmeti', 0.6108683347702026)]"
      ]
     },
     "execution_count": 15,
     "metadata": {},
     "output_type": "execute_result"
    }
   ],
   "source": [
    "# 11. Kelime\n",
    "Nearest_word(\"sağlık\")"
   ]
  },
  {
   "cell_type": "code",
   "execution_count": 16,
   "id": "2fd34439",
   "metadata": {
    "colab": {
     "base_uri": "https://localhost:8080/"
    },
    "id": "2fd34439",
    "outputId": "9ac0c9f6-08a7-45a1-9874-9b533aac94c1"
   },
   "outputs": [
    {
     "data": {
      "text/plain": [
       "[('yaptırma', 0.5726078748703003),\n",
       " ('aşısını', 0.5696978569030762),\n",
       " ('grip', 0.5653066039085388),\n",
       " ('yapılma', 0.5576460361480713),\n",
       " ('yaptırmalarını', 0.5348092913627625)]"
      ]
     },
     "execution_count": 16,
     "metadata": {},
     "output_type": "execute_result"
    }
   ],
   "source": [
    "# 12. Kelime\n",
    "Nearest_word(\"aşısı\")"
   ]
  },
  {
   "cell_type": "code",
   "execution_count": 17,
   "id": "01fc8b49",
   "metadata": {
    "colab": {
     "base_uri": "https://localhost:8080/"
    },
    "id": "01fc8b49",
    "outputId": "689fde27-48a2-4ee1-ac45-3435057f27da"
   },
   "outputs": [
    {
     "data": {
      "text/plain": [
       "[('üstü', 0.8028951287269592),\n",
       " ('üzeri', 0.7515841126441956),\n",
       " ('aralığındaki', 0.5997313857078552),\n",
       " ('aralığında', 0.5974768996238708),\n",
       " ('geriatrik', 0.5952654480934143)]"
      ]
     },
     "execution_count": 17,
     "metadata": {},
     "output_type": "execute_result"
    }
   ],
   "source": [
    "# 13. Kelime\n",
    "Nearest_word(\"yaş\")"
   ]
  },
  {
   "cell_type": "code",
   "execution_count": 18,
   "id": "494e1087",
   "metadata": {
    "colab": {
     "base_uri": "https://localhost:8080/"
    },
    "id": "494e1087",
    "outputId": "6c52866f-cc36-422e-c200-a50bd68dfed3"
   },
   "outputs": [
    {
     "data": {
      "text/plain": [
       "[('yüksektir', 0.43544748425483704),\n",
       " ('oranda', 0.42523589730262756),\n",
       " ('gruplardan', 0.4132946729660034),\n",
       " ('lipopolisakkaridin', 0.4124673008918762),\n",
       " ('koyabilme', 0.40224483609199524)]"
      ]
     },
     "execution_count": 18,
     "metadata": {},
     "output_type": "execute_result"
    }
   ],
   "source": [
    "# 14. Kelime\n",
    "Nearest_word(\"yüksek\")"
   ]
  },
  {
   "cell_type": "code",
   "execution_count": 19,
   "id": "71ab1bbb",
   "metadata": {
    "colab": {
     "base_uri": "https://localhost:8080/"
    },
    "id": "71ab1bbb",
    "outputId": "60f4c5ce-6b57-46c5-dd12-f7594d0c3f01"
   },
   "outputs": [
    {
     "data": {
      "text/plain": [
       "[('yolu', 0.8052195906639099),\n",
       " ('üst', 0.6679574251174927),\n",
       " ('sıkıntısı', 0.571664571762085),\n",
       " ('enfeksiyonlarıdır', 0.5397446751594543),\n",
       " ('acute', 0.5396109223365784)]"
      ]
     },
     "execution_count": 19,
     "metadata": {},
     "output_type": "execute_result"
    }
   ],
   "source": [
    "# 15. Kelime\n",
    "Nearest_word(\"solunum\")"
   ]
  },
  {
   "cell_type": "code",
   "execution_count": 20,
   "id": "e4ee9a8a",
   "metadata": {
    "colab": {
     "base_uri": "https://localhost:8080/"
    },
    "id": "e4ee9a8a",
    "outputId": "87c8e380-3e6b-4d24-b7c4-d5c7cd52773a"
   },
   "outputs": [
    {
     "data": {
      "text/plain": [
       "[('yılları', 0.5254332423210144),\n",
       " ('fark', 0.5120289325714111),\n",
       " ('tarihleri', 0.4896101653575897),\n",
       " ('ilişki', 0.459562212228775),\n",
       " ('bulunmamıştır', 0.4555765688419342)]"
      ]
     },
     "execution_count": 20,
     "metadata": {},
     "output_type": "execute_result"
    }
   ],
   "source": [
    "# 16. Kelime\n",
    "Nearest_word(\"arasında\")"
   ]
  },
  {
   "cell_type": "code",
   "execution_count": 21,
   "id": "85ff726f",
   "metadata": {
    "colab": {
     "base_uri": "https://localhost:8080/"
    },
    "id": "85ff726f",
    "outputId": "908f8310-4f51-4315-9a17-e539b74fe4a8"
   },
   "outputs": [
    {
     "data": {
      "text/plain": [
       "[('inflüenza', 0.4905514121055603),\n",
       " ('görüşlerine', 0.443678617477417),\n",
       " ('önleyebilir', 0.42961663007736206),\n",
       " ('aşısı', 0.4267473816871643),\n",
       " ('yaptıranların', 0.4225445091724396)]"
      ]
     },
     "execution_count": 21,
     "metadata": {},
     "output_type": "execute_result"
    }
   ],
   "source": [
    "# 17. Kelime\n",
    "Nearest_word(\"mevsimsel\")"
   ]
  },
  {
   "cell_type": "code",
   "execution_count": 22,
   "id": "f131bee9",
   "metadata": {
    "colab": {
     "base_uri": "https://localhost:8080/"
    },
    "id": "f131bee9",
    "outputId": "e9d8a805-a763-4ac3-a236-808785d66a2d"
   },
   "outputs": [
    {
     "data": {
      "text/plain": [
       "[('kontrol', 0.42871883511543274),\n",
       " ('belirtileri', 0.4222739636898041),\n",
       " ('semptomlarının', 0.39934587478637695),\n",
       " ('benzeri', 0.38817769289016724),\n",
       " ('milyonu', 0.37838035821914673)]"
      ]
     },
     "execution_count": 22,
     "metadata": {},
     "output_type": "execute_result"
    }
   ],
   "source": [
    "# 18. Kelime\n",
    "Nearest_word(\"hastalık\")"
   ]
  },
  {
   "cell_type": "code",
   "execution_count": 23,
   "id": "210691dd",
   "metadata": {
    "colab": {
     "base_uri": "https://localhost:8080/"
    },
    "id": "210691dd",
    "outputId": "7f0465aa-cf41-4c37-aefa-3531131734c2"
   },
   "outputs": [
    {
     "data": {
      "text/plain": [
       "[('parainfluenza', 0.4199526011943817),\n",
       " ('adenovirüs', 0.39682039618492126),\n",
       " ('orantılıdır', 0.3955867886543274),\n",
       " ('subtipine', 0.39469069242477417),\n",
       " ('partiküller', 0.3837336301803589)]"
      ]
     },
     "execution_count": 23,
     "metadata": {},
     "output_type": "execute_result"
    }
   ],
   "source": [
    "# 19. Kelime\n",
    "Nearest_word(\"virüs\")"
   ]
  },
  {
   "cell_type": "code",
   "execution_count": 24,
   "id": "3e1fdb1f",
   "metadata": {
    "colab": {
     "base_uri": "https://localhost:8080/"
    },
    "id": "3e1fdb1f",
    "outputId": "2f1cd0c6-9aca-43b6-e5ee-1058b78595e2"
   },
   "outputs": [
    {
     "data": {
      "text/plain": [
       "[('sürecini', 0.5063568949699402),\n",
       " ('kat', 0.486295223236084),\n",
       " ('verilerine', 0.4701150953769684),\n",
       " ('kültürel', 0.46981027722358704),\n",
       " ('altyapı', 0.45698827505111694)]"
      ]
     },
     "execution_count": 24,
     "metadata": {},
     "output_type": "execute_result"
    }
   ],
   "source": [
    "# 20. Kelime\n",
    "Nearest_word(\"göre\")"
   ]
  },
  {
   "cell_type": "markdown",
   "id": "d7bd6f11",
   "metadata": {
    "id": "d7bd6f11"
   },
   "source": [
    "# Seçilen 5 farklı cümleye en benzer 3 er cümle bulalım"
   ]
  },
  {
   "cell_type": "code",
   "execution_count": 25,
   "id": "cbdb322a",
   "metadata": {
    "id": "cbdb322a"
   },
   "outputs": [],
   "source": [
    "from nltk.tokenize import word_tokenize\n",
    "from sklearn.metrics.pairwise import cosine_similarity\n",
    "import numpy as np"
   ]
  },
  {
   "cell_type": "code",
   "execution_count": 26,
   "id": "B2SApYaRCOPA",
   "metadata": {
    "colab": {
     "base_uri": "https://localhost:8080/"
    },
    "id": "B2SApYaRCOPA",
    "outputId": "3ceba208-afae-4bd5-f632-93f93b7ea58e"
   },
   "outputs": [
    {
     "name": "stderr",
     "output_type": "stream",
     "text": [
      "[nltk_data] Downloading package punkt to /root/nltk_data...\n",
      "[nltk_data]   Unzipping tokenizers/punkt.zip.\n"
     ]
    },
    {
     "data": {
      "text/plain": [
       "True"
      ]
     },
     "execution_count": 26,
     "metadata": {},
     "output_type": "execute_result"
    }
   ],
   "source": [
    "import nltk\n",
    "nltk.download('punkt')"
   ]
  },
  {
   "cell_type": "code",
   "execution_count": 27,
   "id": "6e46df35",
   "metadata": {
    "id": "6e46df35"
   },
   "outputs": [],
   "source": [
    "def Nearest_sentence(selected_sentence):\n",
    "\n",
    "    # Seçilen cümleyi tokenize edelim\n",
    "    tokenized_selected_sentence = word_tokenize(selected_sentence)\n",
    "\n",
    "    # Seçilen cümleyi vektörle temsil edelim\n",
    "    selected_sentence_vector = np.mean([model.wv[word] for word in tokenized_selected_sentence if word in model.wv], axis=0)\n",
    "\n",
    "    # Veri setindeki tüm cümleleri vektörle temsil edelim\n",
    "    all_sentence_vectors = [np.mean([model.wv[word] for word in word_tokenize(sentence) if word in model.wv], axis=0)\n",
    "                            for sentence in data['Cleaned_Text']]\n",
    "\n",
    "    # Cosine Similarity kullanarak benzer cümleleri bulalım\n",
    "    similarities = cosine_similarity([selected_sentence_vector], all_sentence_vectors)[0]\n",
    "\n",
    "    # Benzerlik sırasına göre indeksleri alalım\n",
    "    most_similar_indices = similarities.argsort()[-4:][::-1]\n",
    "\n",
    "    print(\"Seçilen Cümle ve Ona En Benzer 3 Cümle:\")\n",
    "    for index in most_similar_indices:\n",
    "        print(f\"{data['Cumle sayisi'][index]}.Cümle: {data['Cleaned_Text'][index]}, Benzerlik: {similarities[index]}\")\n",
    "\n"
   ]
  },
  {
   "cell_type": "code",
   "execution_count": 28,
   "id": "5a8e8247",
   "metadata": {
    "colab": {
     "base_uri": "https://localhost:8080/"
    },
    "id": "5a8e8247",
    "outputId": "b54ea133-627f-46ff-987e-96a520fafe9e"
   },
   "outputs": [
    {
     "name": "stdout",
     "output_type": "stream",
     "text": [
      "Seçilen Cümle ve Ona En Benzer 3 Cümle:\n",
      "878.Cümle: sigara içenlerde sık görülmez fakat ağır seyreder, Benzerlik: 1.0\n",
      "9853.Cümle: riskli gruplarda influenza ağır seyreder komplikasyonları sık görülür, Benzerlik: 0.8503880500793457\n",
      "10569.Cümle: i̇nfluenza pnömonisi sık olarak influenzayı ağır komplikasyonlu geçirme riski taşıyan küçük çocuklarda gelişmektedir, Benzerlik: 0.7785724401473999\n",
      "1885.Cümle: i̇nfluenza pnömonisi sık olarak influenzayı ağır komplikasyonlu geçirme riski taşıyan küçük çocuklarda gelişmektedir, Benzerlik: 0.7785724401473999\n"
     ]
    }
   ],
   "source": [
    "# 1. cümle\n",
    "Nearest_sentence(\"sigara içenlerde sık görülmez fakat ağır seyreder\")"
   ]
  },
  {
   "cell_type": "code",
   "execution_count": 29,
   "id": "86c43213",
   "metadata": {
    "colab": {
     "base_uri": "https://localhost:8080/"
    },
    "id": "86c43213",
    "outputId": "2ee807d6-04fe-4adc-c083-4e2fa8dae9a8"
   },
   "outputs": [
    {
     "name": "stdout",
     "output_type": "stream",
     "text": [
      "Seçilen Cümle ve Ona En Benzer 3 Cümle:\n",
      "5203.Cümle: gebelikte hastalığın genellikle ciddi seyrettiği özellikle üçüncü trimestırdaki gebelerde hiv koinfeksiyon durumunda mortalitenin yüksek olduğu bildirilmiştir, Benzerlik: 1.000000238418579\n",
      "8006.Cümle: başka çalışmalarda yaşlı hastalarda olgu fatalite hızlarının yüksek olduğu ayrıca altta yatan kronik hastalıkların obezitenin gebeliğin hastalığın seyrini ağırlaştırdığı saptanmıştır, Benzerlik: 0.8312697410583496\n",
      "3492.Cümle: yılındaki hn salgınında hastalığın gebelerde ağır seyrettiği komplikasyon riskinin yüksek olduğunun ortaya konmasından itibaren influenza enfeksiyonu olan gebelere mutlaka antiviral tedavi önerilmektedir, Benzerlik: 0.8312034606933594\n",
      "1988.Cümle: gebeliğin kendisi yüksek riskli bir durumdur influenzanın potansiyel olumsuz etkileri özellikle gebe kadınlarda ciddi hale gelebilir, Benzerlik: 0.8091965913772583\n"
     ]
    }
   ],
   "source": [
    "# 2. cümle\n",
    "Nearest_sentence(\"gebelikte hastalığın genellikle ciddi seyrettiği özellikle üçüncü trimestırdaki gebelerde hiv koinfeksiyon durumunda mortalitenin yüksek olduğu bildirilmiştir\")"
   ]
  },
  {
   "cell_type": "code",
   "execution_count": 30,
   "id": "0b9fa462",
   "metadata": {
    "colab": {
     "base_uri": "https://localhost:8080/"
    },
    "id": "0b9fa462",
    "outputId": "65e7e7a2-5fc1-424d-a52b-ba6a5b404e56"
   },
   "outputs": [
    {
     "name": "stdout",
     "output_type": "stream",
     "text": [
      "Seçilen Cümle ve Ona En Benzer 3 Cümle:\n",
      "1175.Cümle: öksürdükten hapşırdıktan sonra ellerinizi bol sabun suyla yıkayınız, Benzerlik: 1.0000001192092896\n",
      "1173.Cümle: mendili kullandıktan sonra çöp sepetine atınız, Benzerlik: 0.8807318210601807\n",
      "4595.Cümle: bundan sonra uzak şarkta önleneceğini ümit ederim ifadelerini kullanmıştır, Benzerlik: 0.8423560261726379\n",
      "4052.Cümle: zarftan soyunma uncoating aşamasından sonra endozom içine pinositozla penetre olur, Benzerlik: 0.8314599990844727\n"
     ]
    }
   ],
   "source": [
    "# 3. cümle\n",
    "Nearest_sentence(\"öksürdükten hapşırdıktan sonra ellerinizi bol sabun suyla yıkayınız\")"
   ]
  },
  {
   "cell_type": "code",
   "execution_count": 31,
   "id": "eb81be0d",
   "metadata": {
    "colab": {
     "base_uri": "https://localhost:8080/"
    },
    "id": "eb81be0d",
    "outputId": "06bfa3d5-a18b-44d0-d7dd-3e79645ab063"
   },
   "outputs": [
    {
     "name": "stdout",
     "output_type": "stream",
     "text": [
      "Seçilen Cümle ve Ona En Benzer 3 Cümle:\n",
      "7851.Cümle: bulaş i̇nfluenza virüslerinin aksırma öksürmeyle birlikte saçılan damlacık partikülleriyle kişiden kişiye geçişi görülmektedir, Benzerlik: 1.0\n",
      "1019.Cümle: i̇nfluenza virüsleri hapşırma öksürükle saçılan damlacık partikülleri kişiden kişiye bulaşabilir cdc e, Benzerlik: 0.8998823165893555\n",
      "1427.Cümle: i̇nfluenza virüsleri kişiden kişiye kolayca bulaşabilir, Benzerlik: 0.8773488402366638\n",
      "10534.Cümle: i̇nfluenza enfeksiyonu kişiden kişiye damlacık yoluyla bulaşır ancak bulaşmada yüzeylerin rolü genellikle göz ardı edilmektedir, Benzerlik: 0.8680210709571838\n"
     ]
    }
   ],
   "source": [
    "# 4. cümle\n",
    "Nearest_sentence(\"bulaş i̇nfluenza virüslerinin aksırma öksürmeyle birlikte saçılan damlacık partikülleriyle kişiden kişiye geçişi görülmektedir\")"
   ]
  },
  {
   "cell_type": "code",
   "execution_count": 32,
   "id": "fee29fdd",
   "metadata": {
    "colab": {
     "base_uri": "https://localhost:8080/"
    },
    "id": "fee29fdd",
    "outputId": "f18f0a2d-6f19-4a18-8900-01ad26d9a91f"
   },
   "outputs": [
    {
     "name": "stdout",
     "output_type": "stream",
     "text": [
      "Seçilen Cümle ve Ona En Benzer 3 Cümle:\n",
      "879.Cümle: bir insan ömrü boyunca yaklaşık olarak nezle olur, Benzerlik: 1.0000001192092896\n",
      "458.Cümle: i̇nfluenza enfeksiyonu varlığında kişi önceden sağlıklı biriyse immünsüpresf bir durumu yoksa yaklaşık olarak haftalık bir sürede tamamen iyileşme olur ancak yaşlılar çocuklar diğer duyarlı gruplarda pnömoni ağır komplikasyonlar ortaya çıkabilir, Benzerlik: 0.738955557346344\n",
      "2156.Cümle: bir aşı tipik olarak hastalık yaratan bir mikroorganizmaya benzeyen genellikle mikrop toksinler yüzey proteinlerinden birinin zayıflamış öldürülmüş biçimlerinden yapılmış bir ajan içerir, Benzerlik: 0.7383205890655518\n",
      "9928.Cümle: ortalama bir grip sezonunda hastalığın yaygınlığı yaklaşık olarak gerçekleşmektedir, Benzerlik: 0.7361541986465454\n"
     ]
    }
   ],
   "source": [
    "# 5. cümle\n",
    "Nearest_sentence(\"bir insan ömrü boyunca yaklaşık olarak nezle olur\")"
   ]
  },
  {
   "cell_type": "markdown",
   "id": "f6036014",
   "metadata": {
    "id": "f6036014"
   },
   "source": [
    "# Duygu analizi yapalım"
   ]
  },
  {
   "cell_type": "code",
   "execution_count": 33,
   "id": "eQTp-QBwIBAY",
   "metadata": {
    "colab": {
     "base_uri": "https://localhost:8080/",
     "height": 129
    },
    "id": "eQTp-QBwIBAY",
    "outputId": "d598d726-f82f-4853-8d26-e0d7dce66cde"
   },
   "outputs": [
    {
     "name": "stderr",
     "output_type": "stream",
     "text": [
      "/usr/local/lib/python3.10/dist-packages/sklearn/cluster/_kmeans.py:870: FutureWarning: The default value of `n_init` will change from 10 to 'auto' in 1.4. Set the value of `n_init` explicitly to suppress the warning\n",
      "  warnings.warn(\n"
     ]
    },
    {
     "data": {
      "text/html": [
       "<style>#sk-container-id-1 {color: black;background-color: white;}#sk-container-id-1 pre{padding: 0;}#sk-container-id-1 div.sk-toggleable {background-color: white;}#sk-container-id-1 label.sk-toggleable__label {cursor: pointer;display: block;width: 100%;margin-bottom: 0;padding: 0.3em;box-sizing: border-box;text-align: center;}#sk-container-id-1 label.sk-toggleable__label-arrow:before {content: \"▸\";float: left;margin-right: 0.25em;color: #696969;}#sk-container-id-1 label.sk-toggleable__label-arrow:hover:before {color: black;}#sk-container-id-1 div.sk-estimator:hover label.sk-toggleable__label-arrow:before {color: black;}#sk-container-id-1 div.sk-toggleable__content {max-height: 0;max-width: 0;overflow: hidden;text-align: left;background-color: #f0f8ff;}#sk-container-id-1 div.sk-toggleable__content pre {margin: 0.2em;color: black;border-radius: 0.25em;background-color: #f0f8ff;}#sk-container-id-1 input.sk-toggleable__control:checked~div.sk-toggleable__content {max-height: 200px;max-width: 100%;overflow: auto;}#sk-container-id-1 input.sk-toggleable__control:checked~label.sk-toggleable__label-arrow:before {content: \"▾\";}#sk-container-id-1 div.sk-estimator input.sk-toggleable__control:checked~label.sk-toggleable__label {background-color: #d4ebff;}#sk-container-id-1 div.sk-label input.sk-toggleable__control:checked~label.sk-toggleable__label {background-color: #d4ebff;}#sk-container-id-1 input.sk-hidden--visually {border: 0;clip: rect(1px 1px 1px 1px);clip: rect(1px, 1px, 1px, 1px);height: 1px;margin: -1px;overflow: hidden;padding: 0;position: absolute;width: 1px;}#sk-container-id-1 div.sk-estimator {font-family: monospace;background-color: #f0f8ff;border: 1px dotted black;border-radius: 0.25em;box-sizing: border-box;margin-bottom: 0.5em;}#sk-container-id-1 div.sk-estimator:hover {background-color: #d4ebff;}#sk-container-id-1 div.sk-parallel-item::after {content: \"\";width: 100%;border-bottom: 1px solid gray;flex-grow: 1;}#sk-container-id-1 div.sk-label:hover label.sk-toggleable__label {background-color: #d4ebff;}#sk-container-id-1 div.sk-serial::before {content: \"\";position: absolute;border-left: 1px solid gray;box-sizing: border-box;top: 0;bottom: 0;left: 50%;z-index: 0;}#sk-container-id-1 div.sk-serial {display: flex;flex-direction: column;align-items: center;background-color: white;padding-right: 0.2em;padding-left: 0.2em;position: relative;}#sk-container-id-1 div.sk-item {position: relative;z-index: 1;}#sk-container-id-1 div.sk-parallel {display: flex;align-items: stretch;justify-content: center;background-color: white;position: relative;}#sk-container-id-1 div.sk-item::before, #sk-container-id-1 div.sk-parallel-item::before {content: \"\";position: absolute;border-left: 1px solid gray;box-sizing: border-box;top: 0;bottom: 0;left: 50%;z-index: -1;}#sk-container-id-1 div.sk-parallel-item {display: flex;flex-direction: column;z-index: 1;position: relative;background-color: white;}#sk-container-id-1 div.sk-parallel-item:first-child::after {align-self: flex-end;width: 50%;}#sk-container-id-1 div.sk-parallel-item:last-child::after {align-self: flex-start;width: 50%;}#sk-container-id-1 div.sk-parallel-item:only-child::after {width: 0;}#sk-container-id-1 div.sk-dashed-wrapped {border: 1px dashed gray;margin: 0 0.4em 0.5em 0.4em;box-sizing: border-box;padding-bottom: 0.4em;background-color: white;}#sk-container-id-1 div.sk-label label {font-family: monospace;font-weight: bold;display: inline-block;line-height: 1.2em;}#sk-container-id-1 div.sk-label-container {text-align: center;}#sk-container-id-1 div.sk-container {/* jupyter's `normalize.less` sets `[hidden] { display: none; }` but bootstrap.min.css set `[hidden] { display: none !important; }` so we also need the `!important` here to be able to override the default hidden behavior on the sphinx rendered scikit-learn.org. See: https://github.com/scikit-learn/scikit-learn/issues/21755 */display: inline-block !important;position: relative;}#sk-container-id-1 div.sk-text-repr-fallback {display: none;}</style><div id=\"sk-container-id-1\" class=\"sk-top-container\"><div class=\"sk-text-repr-fallback\"><pre>KMeans(n_clusters=2, random_state=42)</pre><b>In a Jupyter environment, please rerun this cell to show the HTML representation or trust the notebook. <br />On GitHub, the HTML representation is unable to render, please try loading this page with nbviewer.org.</b></div><div class=\"sk-container\" hidden><div class=\"sk-item\"><div class=\"sk-estimator sk-toggleable\"><input class=\"sk-toggleable__control sk-hidden--visually\" id=\"sk-estimator-id-1\" type=\"checkbox\" checked><label for=\"sk-estimator-id-1\" class=\"sk-toggleable__label sk-toggleable__label-arrow\">KMeans</label><div class=\"sk-toggleable__content\"><pre>KMeans(n_clusters=2, random_state=42)</pre></div></div></div></div></div>"
      ],
      "text/plain": [
       "KMeans(n_clusters=2, random_state=42)"
      ]
     },
     "execution_count": 33,
     "metadata": {},
     "output_type": "execute_result"
    }
   ],
   "source": [
    "# ML modeli oluşturalım\n",
    "from sklearn.cluster import KMeans\n",
    "\n",
    "all_sentence_vectors = [np.mean([model.wv[word] for word in word_tokenize(sentence) if word in model.wv], axis=0)\n",
    "                            for sentence in data['Cleaned_Text']]\n",
    "\n",
    "kmeans_model = KMeans(n_clusters=2, random_state=42)\n",
    "kmeans_model.fit(all_sentence_vectors)"
   ]
  },
  {
   "cell_type": "code",
   "execution_count": 34,
   "id": "9SZ_sAQNTqYv",
   "metadata": {
    "colab": {
     "base_uri": "https://localhost:8080/"
    },
    "id": "9SZ_sAQNTqYv",
    "outputId": "8df68c8d-c5fc-49fa-b7b2-01afea895e42"
   },
   "outputs": [
    {
     "name": "stderr",
     "output_type": "stream",
     "text": [
      "[nltk_data] Downloading package punkt to /root/nltk_data...\n",
      "[nltk_data]   Package punkt is already up-to-date!\n",
      "[nltk_data] Downloading package stopwords to /root/nltk_data...\n",
      "[nltk_data]   Unzipping corpora/stopwords.zip.\n"
     ]
    },
    {
     "data": {
      "text/plain": [
       "True"
      ]
     },
     "execution_count": 34,
     "metadata": {},
     "output_type": "execute_result"
    }
   ],
   "source": [
    "from nltk.corpus import stopwords\n",
    "from nltk.tokenize import word_tokenize\n",
    "import re\n",
    "nltk.download('punkt')\n",
    "nltk.download('stopwords')"
   ]
  },
  {
   "cell_type": "code",
   "execution_count": 35,
   "id": "6-kNU9eLGipo",
   "metadata": {
    "id": "6-kNU9eLGipo"
   },
   "outputs": [],
   "source": [
    "def is_flu(text):\n",
    "\n",
    "  clean_sentence = []\n",
    "\n",
    "  # Parametre olarak alınan cümleyi önişleyelim\n",
    "  text = re.sub(r'\\d+', '', text)\n",
    "  text = re.sub(r'[^\\w\\s]', '', text)\n",
    "  stop_words = set(stopwords.words('turkish'))\n",
    "  words = word_tokenize(text)\n",
    "  filtered_words = [word.lower() for word in words if word.isalnum() and word.lower() not in stop_words]\n",
    "  clean_sentence = \" \".join(filtered_words)\n",
    "\n",
    "  # Önişlenmiş cümleyi tokenize edelim ve modele gönderelim\n",
    "  new_sentence_vector = sum([model.wv[word] for word in word_tokenize(clean_sentence.lower())])\n",
    "  predicted_cluster = kmeans_model.predict([new_sentence_vector])\n",
    "\n",
    "  if(predicted_cluster == 1):\n",
    "    print(\"CÜMLE GRİP ÖZELLİĞİ TAŞIMAKTADIR\")\n",
    "  else:\n",
    "    print(\"CÜMLE GRİP ÖZELLİĞİ TAŞIMAMAKTADIR.\")"
   ]
  },
  {
   "cell_type": "code",
   "execution_count": 36,
   "id": "6990ee7f",
   "metadata": {
    "colab": {
     "base_uri": "https://localhost:8080/"
    },
    "id": "6990ee7f",
    "outputId": "ac23b4d0-ea90-4723-cfff-d2ac7a12c435"
   },
   "outputs": [
    {
     "name": "stdout",
     "output_type": "stream",
     "text": [
      "CÜMLE GRİP ÖZELLİĞİ TAŞIMAKTADIR\n"
     ]
    }
   ],
   "source": [
    "is_flu(\"16 yaşındaki hastada baş ağrısı, halsizlik gibi belirtiler var.\")"
   ]
  },
  {
   "cell_type": "code",
   "execution_count": 37,
   "id": "k3c9FK7vFXVC",
   "metadata": {
    "colab": {
     "base_uri": "https://localhost:8080/"
    },
    "id": "k3c9FK7vFXVC",
    "outputId": "61e28fe0-a1cb-4c71-b7a8-62c4d43dd5ef"
   },
   "outputs": [
    {
     "name": "stdout",
     "output_type": "stream",
     "text": [
      "CÜMLE GRİP ÖZELLİĞİ TAŞIMAMAKTADIR.\n"
     ]
    }
   ],
   "source": [
    "is_flu(\"Hastamızın durumu iyi.\")"
   ]
  }
 ],
 "metadata": {
  "colab": {
   "provenance": []
  },
  "kernelspec": {
   "display_name": "Python 3.7",
   "language": "python",
   "name": "myenv"
  },
  "language_info": {
   "codemirror_mode": {
    "name": "ipython",
    "version": 3
   },
   "file_extension": ".py",
   "mimetype": "text/x-python",
   "name": "python",
   "nbconvert_exporter": "python",
   "pygments_lexer": "ipython3",
   "version": "3.10.13"
  }
 },
 "nbformat": 4,
 "nbformat_minor": 5
}
